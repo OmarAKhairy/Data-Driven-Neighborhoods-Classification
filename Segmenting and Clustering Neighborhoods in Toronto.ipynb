{
 "cells": [
  {
   "cell_type": "markdown",
   "metadata": {},
   "source": [
    "# Segmenting and Clustering Neighborhoods in Toronto"
   ]
  },
  {
   "cell_type": "code",
   "execution_count": 22,
   "metadata": {},
   "outputs": [],
   "source": [
    "import requests\n",
    "from bs4 import BeautifulSoup\n",
    "import pandas as pd"
   ]
  },
  {
   "cell_type": "code",
   "execution_count": 23,
   "metadata": {},
   "outputs": [
    {
     "name": "stdout",
     "output_type": "stream",
     "text": [
      "<Response [200]>\n"
     ]
    }
   ],
   "source": [
    "res = requests.get(\"https://en.wikipedia.org/wiki/List_of_postal_codes_of_Canada:_M\")\n",
    "print(res)"
   ]
  },
  {
   "cell_type": "code",
   "execution_count": 91,
   "metadata": {},
   "outputs": [],
   "source": [
    "bs = BeautifulSoup(res.text, 'html.parser')\n",
    "tableAsList = bs.select('.wikitable tr td')\n",
    "n = 3\n",
    "completeList = list()"
   ]
  },
  {
   "cell_type": "code",
   "execution_count": 133,
   "metadata": {},
   "outputs": [],
   "source": [
    "for idx in range(0, len(tableAsList)):\n",
    "    if tableAsList[idx].find('a') != None and tableAsList[idx].find('a').string != None:\n",
    "        completeList.append(tableAsList[idx].find('a').string.replace('\\n',''))\n",
    "    elif tableAsList[idx] != None and tableAsList[idx].string != None:\n",
    "        completeList.append(tableAsList[idx].string.replace('\\n',''))\n",
    "    else:\n",
    "        completeList.append(tableAsList[idx].string)\n",
    "finalList = [completeList[i * n:(i + 1) * n] for i in range((len(completeList) + n - 1) // n )]     \n",
    "df = pd.DataFrame(finalList)\n",
    "df.columns = ['PostalCode', 'Borough', 'Neighbourhood']\n",
    "df = df[df.Borough != \"Not assigned\"]\n",
    "df.loc[df['Neighbourhood'] == \"Not assigned\", 'Neighbourhood'] = df['Borough']\n",
    "neighbourhoodDataFrame = df.groupby(['PostalCode', 'Borough'])['Neighbourhood'].apply(','.join).reset_index()"
   ]
  },
  {
   "cell_type": "code",
   "execution_count": 134,
   "metadata": {},
   "outputs": [
    {
     "data": {
      "text/plain": [
       "(103, 3)"
      ]
     },
     "execution_count": 134,
     "metadata": {},
     "output_type": "execute_result"
    }
   ],
   "source": [
    "neighbourhoodDataFrame.shape"
   ]
  },
  {
   "cell_type": "code",
   "execution_count": null,
   "metadata": {},
   "outputs": [],
   "source": []
  }
 ],
 "metadata": {
  "kernelspec": {
   "display_name": "Python 3",
   "language": "python",
   "name": "python3"
  },
  "language_info": {
   "codemirror_mode": {
    "name": "ipython",
    "version": 3
   },
   "file_extension": ".py",
   "mimetype": "text/x-python",
   "name": "python",
   "nbconvert_exporter": "python",
   "pygments_lexer": "ipython3",
   "version": "3.7.3"
  }
 },
 "nbformat": 4,
 "nbformat_minor": 2
}
